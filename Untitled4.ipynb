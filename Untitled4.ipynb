{
  "nbformat": 4,
  "nbformat_minor": 0,
  "metadata": {
    "colab": {
      "name": "Untitled4.ipynb",
      "provenance": [],
      "include_colab_link": true
    },
    "kernelspec": {
      "name": "python3",
      "display_name": "Python 3"
    }
  },
  "cells": [
    {
      "cell_type": "markdown",
      "metadata": {
        "id": "view-in-github",
        "colab_type": "text"
      },
      "source": [
        "<a href=\"https://colab.research.google.com/github/souvik25162/stock_price/blob/master/Untitled4.2ipynb\" target=\"_parent\"><img src=\"https://colab.research.google.com/assets/colab-badge.svg\" alt=\"Open In Colab\"/></a>"
      ]
    },
    {
      "cell_type": "code",
      "metadata": {
        "id": "y7V6jmmwv-jR",
        "colab_type": "code",
        "colab": {
          "base_uri": "https://localhost:8080/",
          "height": 52
        },
        "outputId": "82dcd29c-130b-4d3b-a109-cf62fee12646"
      },
      "source": [
        "import numpy as np\n",
        "import math\n",
        "import pandas as pd\n",
        "import pandas_datareader as web\n",
        "from keras.models import Sequential\n",
        "from keras.layers import LSTM,Dense\n",
        "import matplotlib.pyplot as plot\n",
        "plot.style.use('fivethirtyeight')"
      ],
      "execution_count": 1,
      "outputs": [
        {
          "output_type": "stream",
          "text": [
            "/usr/local/lib/python3.6/dist-packages/pandas_datareader/compat/__init__.py:7: FutureWarning: pandas.util.testing is deprecated. Use the functions in the public API at pandas.testing instead.\n",
            "  from pandas.util.testing import assert_frame_equal\n"
          ],
          "name": "stderr"
        }
      ]
    },
    {
      "cell_type": "code",
      "metadata": {
        "id": "Nj64IBPb0EHK",
        "colab_type": "code",
        "colab": {
          "base_uri": "https://localhost:8080/",
          "height": 223
        },
        "outputId": "a3ebc256-1923-459a-9d37-e5668ff8cf3a"
      },
      "source": [
        "#get the data\n",
        "df=web.DataReader('AAPL',data_source='yahoo',start='2012-01-01',end='2019-12-17')\n",
        "#show the data\n",
        "df.head()"
      ],
      "execution_count": 2,
      "outputs": [
        {
          "output_type": "execute_result",
          "data": {
            "text/html": [
              "<div>\n",
              "<style scoped>\n",
              "    .dataframe tbody tr th:only-of-type {\n",
              "        vertical-align: middle;\n",
              "    }\n",
              "\n",
              "    .dataframe tbody tr th {\n",
              "        vertical-align: top;\n",
              "    }\n",
              "\n",
              "    .dataframe thead th {\n",
              "        text-align: right;\n",
              "    }\n",
              "</style>\n",
              "<table border=\"1\" class=\"dataframe\">\n",
              "  <thead>\n",
              "    <tr style=\"text-align: right;\">\n",
              "      <th></th>\n",
              "      <th>High</th>\n",
              "      <th>Low</th>\n",
              "      <th>Open</th>\n",
              "      <th>Close</th>\n",
              "      <th>Volume</th>\n",
              "      <th>Adj Close</th>\n",
              "    </tr>\n",
              "    <tr>\n",
              "      <th>Date</th>\n",
              "      <th></th>\n",
              "      <th></th>\n",
              "      <th></th>\n",
              "      <th></th>\n",
              "      <th></th>\n",
              "      <th></th>\n",
              "    </tr>\n",
              "  </thead>\n",
              "  <tbody>\n",
              "    <tr>\n",
              "      <th>2012-01-03</th>\n",
              "      <td>58.928570</td>\n",
              "      <td>58.428570</td>\n",
              "      <td>58.485714</td>\n",
              "      <td>58.747143</td>\n",
              "      <td>75555200.0</td>\n",
              "      <td>50.765709</td>\n",
              "    </tr>\n",
              "    <tr>\n",
              "      <th>2012-01-04</th>\n",
              "      <td>59.240002</td>\n",
              "      <td>58.468571</td>\n",
              "      <td>58.571430</td>\n",
              "      <td>59.062859</td>\n",
              "      <td>65005500.0</td>\n",
              "      <td>51.038536</td>\n",
              "    </tr>\n",
              "    <tr>\n",
              "      <th>2012-01-05</th>\n",
              "      <td>59.792858</td>\n",
              "      <td>58.952858</td>\n",
              "      <td>59.278572</td>\n",
              "      <td>59.718571</td>\n",
              "      <td>67817400.0</td>\n",
              "      <td>51.605175</td>\n",
              "    </tr>\n",
              "    <tr>\n",
              "      <th>2012-01-06</th>\n",
              "      <td>60.392857</td>\n",
              "      <td>59.888573</td>\n",
              "      <td>59.967144</td>\n",
              "      <td>60.342857</td>\n",
              "      <td>79573200.0</td>\n",
              "      <td>52.144630</td>\n",
              "    </tr>\n",
              "    <tr>\n",
              "      <th>2012-01-09</th>\n",
              "      <td>61.107143</td>\n",
              "      <td>60.192856</td>\n",
              "      <td>60.785713</td>\n",
              "      <td>60.247143</td>\n",
              "      <td>98506100.0</td>\n",
              "      <td>52.061932</td>\n",
              "    </tr>\n",
              "  </tbody>\n",
              "</table>\n",
              "</div>"
            ],
            "text/plain": [
              "                 High        Low       Open      Close      Volume  Adj Close\n",
              "Date                                                                         \n",
              "2012-01-03  58.928570  58.428570  58.485714  58.747143  75555200.0  50.765709\n",
              "2012-01-04  59.240002  58.468571  58.571430  59.062859  65005500.0  51.038536\n",
              "2012-01-05  59.792858  58.952858  59.278572  59.718571  67817400.0  51.605175\n",
              "2012-01-06  60.392857  59.888573  59.967144  60.342857  79573200.0  52.144630\n",
              "2012-01-09  61.107143  60.192856  60.785713  60.247143  98506100.0  52.061932"
            ]
          },
          "metadata": {
            "tags": []
          },
          "execution_count": 2
        }
      ]
    },
    {
      "cell_type": "code",
      "metadata": {
        "id": "fPikNMel1Rud",
        "colab_type": "code",
        "colab": {
          "base_uri": "https://localhost:8080/",
          "height": 35
        },
        "outputId": "b1877a47-40d6-4a87-db41-0f85280717d7"
      },
      "source": [
        "#get the nmb of rows and coloumns\n",
        "df.shape"
      ],
      "execution_count": 3,
      "outputs": [
        {
          "output_type": "execute_result",
          "data": {
            "text/plain": [
              "(2003, 6)"
            ]
          },
          "metadata": {
            "tags": []
          },
          "execution_count": 3
        }
      ]
    },
    {
      "cell_type": "code",
      "metadata": {
        "id": "mYhwcWRq1ZRV",
        "colab_type": "code",
        "colab": {
          "base_uri": "https://localhost:8080/",
          "height": 518
        },
        "outputId": "bfdf5230-b655-4d61-fa75-7150cde1cfc0"
      },
      "source": [
        "#visualize closing price history\n",
        "plot.figure(figsize=(16,8))\n",
        "plot.title('close price hist')\n",
        "plot.plot(df['Close'])\n",
        "plot.xlabel('Date',fontsize=18)\n",
        "plot.ylabel('close price USD($)',fontsize=18)\n",
        "plot.show()"
      ],
      "execution_count": 4,
      "outputs": [
        {
          "output_type": "display_data",
          "data": {
            "image/png": "[encoded data removed]",
            "text/plain": [
              "<Figure size 1152x576 with 1 Axes>"
            ]
          },
          "metadata": {
            "tags": [],
            "needs_background": "light"
          }
        }
      ]
    },
    {
      "cell_type": "code",
      "metadata": {
        "id": "dxlFViAjbCIg",
        "colab_type": "code",
        "colab": {
          "base_uri": "https://localhost:8080/",
          "height": 223
        },
        "outputId": "b366769d-fcbe-4a2e-ba85-89a193d914f8"
      },
      "source": [
        "ts=df[['Close']]\n",
        "ts.head()"
      ],
      "execution_count": 7,
      "outputs": [
        {
          "output_type": "execute_result",
          "data": {
            "text/html": [
              "<div>\n",
              "<style scoped>\n",
              "    .dataframe tbody tr th:only-of-type {\n",
              "        vertical-align: middle;\n",
              "    }\n",
              "\n",
              "    .dataframe tbody tr th {\n",
              "        vertical-align: top;\n",
              "    }\n",
              "\n",
              "    .dataframe thead th {\n",
              "        text-align: right;\n",
              "    }\n",
              "</style>\n",
              "<table border=\"1\" class=\"dataframe\">\n",
              "  <thead>\n",
              "    <tr style=\"text-align: right;\">\n",
              "      <th></th>\n",
              "      <th>Close</th>\n",
              "    </tr>\n",
              "    <tr>\n",
              "      <th>Date</th>\n",
              "      <th></th>\n",
              "    </tr>\n",
              "  </thead>\n",
              "  <tbody>\n",
              "    <tr>\n",
              "      <th>2012-01-03</th>\n",
              "      <td>58.747143</td>\n",
              "    </tr>\n",
              "    <tr>\n",
              "      <th>2012-01-04</th>\n",
              "      <td>59.062859</td>\n",
              "    </tr>\n",
              "    <tr>\n",
              "      <th>2012-01-05</th>\n",
              "      <td>59.718571</td>\n",
              "    </tr>\n",
              "    <tr>\n",
              "      <th>2012-01-06</th>\n",
              "      <td>60.342857</td>\n",
              "    </tr>\n",
              "    <tr>\n",
              "      <th>2012-01-09</th>\n",
              "      <td>60.247143</td>\n",
              "    </tr>\n",
              "  </tbody>\n",
              "</table>\n",
              "</div>"
            ],
            "text/plain": [
              "                Close\n",
              "Date                 \n",
              "2012-01-03  58.747143\n",
              "2012-01-04  59.062859\n",
              "2012-01-05  59.718571\n",
              "2012-01-06  60.342857\n",
              "2012-01-09  60.247143"
            ]
          },
          "metadata": {
            "tags": []
          },
          "execution_count": 7
        }
      ]
    },
    {
      "cell_type": "code",
      "metadata": {
        "id": "6SU_gBSTcVMv",
        "colab_type": "code",
        "colab": {}
      },
      "source": [
        "import statsmodels.api as sm\n",
        "from statsmodels.tsa.stattools import adfuller\n",
        "from statsmodels.tsa.arima_model import ARIMA"
      ],
      "execution_count": 11,
      "outputs": []
    },
    {
      "cell_type": "code",
      "metadata": {
        "id": "OwIQsygtbJzO",
        "colab_type": "code",
        "colab": {}
      },
      "source": [
        "def stationarity(series,mlag=None,lag=None):\n",
        "  print(\"RESULT OF ADF TEST\")\n",
        "  res = adfuller(series, maxlag = mlag, autolag = lag)\n",
        "  output = pd.Series(res[0:4],index = ['Test Statistic', 'p value', 'used lag', 'Number of observations used'])\n",
        "  for key, value in res[4].items():\n",
        "     output['Critical Value ' + key] = value\n",
        "  print(output)"
      ],
      "execution_count": 12,
      "outputs": []
    },
    {
      "cell_type": "code",
      "metadata": {
        "id": "-TQjanCpcNT1",
        "colab_type": "code",
        "colab": {
          "base_uri": "https://localhost:8080/",
          "height": 177
        },
        "outputId": "97e1fb45-9c6c-49d7-f05a-da912c5fb1a2"
      },
      "source": [
        "stationarity(ts['Close'])"
      ],
      "execution_count": 13,
      "outputs": [
        {
          "output_type": "stream",
          "text": [
            "RESULT OF ADF TEST\n",
            "Test Statistic                    0.717750\n",
            "p value                           0.990186\n",
            "used lag                         26.000000\n",
            "Number of observations used    1976.000000\n",
            "Critical Value 1%                -3.433664\n",
            "Critical Value 5%                -2.863004\n",
            "Critical Value 10%               -2.567549\n",
            "dtype: float64\n"
          ],
          "name": "stdout"
        }
      ]
    },
    {
      "cell_type": "code",
      "metadata": {
        "id": "f7yxMKjIdCJ2",
        "colab_type": "code",
        "colab": {
          "base_uri": "https://localhost:8080/",
          "height": 223
        },
        "outputId": "df6f0cde-4c82-490b-bd3b-85649ed26c42"
      },
      "source": [
        "ts1=ts.copy()\n",
        "ts1['Close']=ts1['Close'].diff()\n",
        "\n",
        "ts1.head()"
      ],
      "execution_count": 14,
      "outputs": [
        {
          "output_type": "execute_result",
          "data": {
            "text/html": [
              "<div>\n",
              "<style scoped>\n",
              "    .dataframe tbody tr th:only-of-type {\n",
              "        vertical-align: middle;\n",
              "    }\n",
              "\n",
              "    .dataframe tbody tr th {\n",
              "        vertical-align: top;\n",
              "    }\n",
              "\n",
              "    .dataframe thead th {\n",
              "        text-align: right;\n",
              "    }\n",
              "</style>\n",
              "<table border=\"1\" class=\"dataframe\">\n",
              "  <thead>\n",
              "    <tr style=\"text-align: right;\">\n",
              "      <th></th>\n",
              "      <th>Close</th>\n",
              "    </tr>\n",
              "    <tr>\n",
              "      <th>Date</th>\n",
              "      <th></th>\n",
              "    </tr>\n",
              "  </thead>\n",
              "  <tbody>\n",
              "    <tr>\n",
              "      <th>2012-01-03</th>\n",
              "      <td>NaN</td>\n",
              "    </tr>\n",
              "    <tr>\n",
              "      <th>2012-01-04</th>\n",
              "      <td>0.315716</td>\n",
              "    </tr>\n",
              "    <tr>\n",
              "      <th>2012-01-05</th>\n",
              "      <td>0.655712</td>\n",
              "    </tr>\n",
              "    <tr>\n",
              "      <th>2012-01-06</th>\n",
              "      <td>0.624287</td>\n",
              "    </tr>\n",
              "    <tr>\n",
              "      <th>2012-01-09</th>\n",
              "      <td>-0.095715</td>\n",
              "    </tr>\n",
              "  </tbody>\n",
              "</table>\n",
              "</div>"
            ],
            "text/plain": [
              "               Close\n",
              "Date                \n",
              "2012-01-03       NaN\n",
              "2012-01-04  0.315716\n",
              "2012-01-05  0.655712\n",
              "2012-01-06  0.624287\n",
              "2012-01-09 -0.095715"
            ]
          },
          "metadata": {
            "tags": []
          },
          "execution_count": 14
        }
      ]
    },
    {
      "cell_type": "code",
      "metadata": {
        "id": "oTAgsg2IdxSK",
        "colab_type": "code",
        "colab": {}
      },
      "source": [
        "ts1=ts1.dropna(axis=0)"
      ],
      "execution_count": 16,
      "outputs": []
    },
    {
      "cell_type": "code",
      "metadata": {
        "id": "98BHNz9Hd-Zp",
        "colab_type": "code",
        "colab": {
          "base_uri": "https://localhost:8080/",
          "height": 177
        },
        "outputId": "5b80a25a-c3ab-45fd-d878-6787280868aa"
      },
      "source": [
        "stationarity(ts1['Close'])"
      ],
      "execution_count": 17,
      "outputs": [
        {
          "output_type": "stream",
          "text": [
            "RESULT OF ADF TEST\n",
            "Test Statistic                -7.711303e+00\n",
            "p value                        1.261749e-11\n",
            "used lag                       2.600000e+01\n",
            "Number of observations used    1.975000e+03\n",
            "Critical Value 1%             -3.433665e+00\n",
            "Critical Value 5%             -2.863005e+00\n",
            "Critical Value 10%            -2.567550e+00\n",
            "dtype: float64\n"
          ],
          "name": "stdout"
        }
      ]
    },
    {
      "cell_type": "code",
      "metadata": {
        "id": "_nomBqxYeieE",
        "colab_type": "code",
        "colab": {
          "base_uri": "https://localhost:8080/",
          "height": 428
        },
        "outputId": "2bdc3026-9b18-4088-83e9-952363099791"
      },
      "source": [
        "ts=ts.sort_values(by='Date',ascending=True)\n",
        "ts"
      ],
      "execution_count": 21,
      "outputs": [
        {
          "output_type": "execute_result",
          "data": {
            "text/html": [
              "<div>\n",
              "<style scoped>\n",
              "    .dataframe tbody tr th:only-of-type {\n",
              "        vertical-align: middle;\n",
              "    }\n",
              "\n",
              "    .dataframe tbody tr th {\n",
              "        vertical-align: top;\n",
              "    }\n",
              "\n",
              "    .dataframe thead th {\n",
              "        text-align: right;\n",
              "    }\n",
              "</style>\n",
              "<table border=\"1\" class=\"dataframe\">\n",
              "  <thead>\n",
              "    <tr style=\"text-align: right;\">\n",
              "      <th></th>\n",
              "      <th>Close</th>\n",
              "    </tr>\n",
              "    <tr>\n",
              "      <th>Date</th>\n",
              "      <th></th>\n",
              "    </tr>\n",
              "  </thead>\n",
              "  <tbody>\n",
              "    <tr>\n",
              "      <th>2012-01-03</th>\n",
              "      <td>58.747143</td>\n",
              "    </tr>\n",
              "    <tr>\n",
              "      <th>2012-01-04</th>\n",
              "      <td>59.062859</td>\n",
              "    </tr>\n",
              "    <tr>\n",
              "      <th>2012-01-05</th>\n",
              "      <td>59.718571</td>\n",
              "    </tr>\n",
              "    <tr>\n",
              "      <th>2012-01-06</th>\n",
              "      <td>60.342857</td>\n",
              "    </tr>\n",
              "    <tr>\n",
              "      <th>2012-01-09</th>\n",
              "      <td>60.247143</td>\n",
              "    </tr>\n",
              "    <tr>\n",
              "      <th>...</th>\n",
              "      <td>...</td>\n",
              "    </tr>\n",
              "    <tr>\n",
              "      <th>2019-12-11</th>\n",
              "      <td>270.769989</td>\n",
              "    </tr>\n",
              "    <tr>\n",
              "      <th>2019-12-12</th>\n",
              "      <td>271.459991</td>\n",
              "    </tr>\n",
              "    <tr>\n",
              "      <th>2019-12-13</th>\n",
              "      <td>275.149994</td>\n",
              "    </tr>\n",
              "    <tr>\n",
              "      <th>2019-12-16</th>\n",
              "      <td>279.859985</td>\n",
              "    </tr>\n",
              "    <tr>\n",
              "      <th>2019-12-17</th>\n",
              "      <td>280.410004</td>\n",
              "    </tr>\n",
              "  </tbody>\n",
              "</table>\n",
              "<p>2003 rows × 1 columns</p>\n",
              "</div>"
            ],
            "text/plain": [
              "                 Close\n",
              "Date                  \n",
              "2012-01-03   58.747143\n",
              "2012-01-04   59.062859\n",
              "2012-01-05   59.718571\n",
              "2012-01-06   60.342857\n",
              "2012-01-09   60.247143\n",
              "...                ...\n",
              "2019-12-11  270.769989\n",
              "2019-12-12  271.459991\n",
              "2019-12-13  275.149994\n",
              "2019-12-16  279.859985\n",
              "2019-12-17  280.410004\n",
              "\n",
              "[2003 rows x 1 columns]"
            ]
          },
          "metadata": {
            "tags": []
          },
          "execution_count": 21
        }
      ]
    },
    {
      "cell_type": "code",
      "metadata": {
        "id": "Cc4gG3nliMIO",
        "colab_type": "code",
        "colab": {}
      },
      "source": [
        "percentage = 0.6\n",
        "series = ts['Close'].tolist()\n",
        "size = int(len(series) * 0.66)\n",
        "train, test = series[0:size], series[size:len(series)]"
      ],
      "execution_count": 35,
      "outputs": []
    },
    {
      "cell_type": "code",
      "metadata": {
        "id": "-LOEHGOMeSiV",
        "colab_type": "code",
        "colab": {
          "base_uri": "https://localhost:8080/",
          "height": 586
        },
        "outputId": "773a1db3-3c28-4357-92ac-679af0d8998a"
      },
      "source": [
        "timeseries =train\n",
        "p,d,q = (4,1,2)\n",
        "arima_mod = ARIMA(timeseries,(p,d,q)).fit()\n",
        "summary = (arima_mod.summary2(alpha=.05, float_format=\"%.8f\"))\n",
        "print(summary)"
      ],
      "execution_count": 37,
      "outputs": [
        {
          "output_type": "stream",
          "text": [
            "                          Results: ARIMA\n",
            "===================================================================\n",
            "Model:              ARIMA            BIC:                 4873.0433\n",
            "Dependent Variable: D.y              Log-Likelihood:      -2407.8  \n",
            "Date:               2020-08-14 10:35 Scale:               1.0000   \n",
            "No. Observations:   1320             Method:              css-mle  \n",
            "Df Model:           7                Sample:              1        \n",
            "Df Residuals:       1313                                  1        \n",
            "Converged:          1.0000           S.D. of innovations: 1.500    \n",
            "No. Iterations:     34.0000          HQIC:                4847.113 \n",
            "AIC:                4831.5602                                      \n",
            "---------------------------------------------------------------------\n",
            "              Coef.    Std.Err.      t      P>|t|     [0.025   0.975]\n",
            "---------------------------------------------------------------------\n",
            "const         0.0643     0.0399    1.6104   0.1075   -0.0140   0.1426\n",
            "ar.L1.D.y    -0.6127     1.2650   -0.4844   0.6282   -3.0920   1.8665\n",
            "ar.L2.D.y     0.2162     1.0660    0.2028   0.8393   -1.8732   2.3055\n",
            "ar.L3.D.y    -0.0397     0.0421   -0.9422   0.3463   -0.1222   0.0428\n",
            "ar.L4.D.y     0.0007     0.0561    0.0119   0.9905   -0.1093   0.1106\n",
            "ma.L1.D.y     0.6283     1.2647    0.4968   0.6194   -1.8504   3.1070\n",
            "ma.L2.D.y    -0.2391     1.0850   -0.2204   0.8256   -2.3656   1.8874\n",
            "----------------------------------------------------------------------------\n",
            "                Real           Imaginary          Modulus          Frequency\n",
            "----------------------------------------------------------------------------\n",
            "AR.1          -1.1086            -0.0000           1.1086            -0.5000\n",
            "AR.2           3.4051            -3.6839           5.0166            -0.1313\n",
            "AR.3           3.4051             3.6839           5.0166             0.1313\n",
            "AR.4          53.5062            -0.0000          53.5062            -0.0000\n",
            "MA.1          -1.1169             0.0000           1.1169             0.5000\n",
            "MA.2           3.7448             0.0000           3.7448             0.0000\n",
            "===================================================================\n",
            "\n"
          ],
          "name": "stdout"
        }
      ]
    },
    {
      "cell_type": "code",
      "metadata": {
        "id": "Ydt_ghwtgKU5",
        "colab_type": "code",
        "colab": {
          "base_uri": "https://localhost:8080/",
          "height": 297
        },
        "outputId": "40afc161-ae62-4e65-bbb7-768f24c4fcb1"
      },
      "source": [
        "Y=ts['Close'].resample('MS').mean()\n",
        "Y.plot()"
      ],
      "execution_count": 26,
      "outputs": [
        {
          "output_type": "execute_result",
          "data": {
            "text/plain": [
              "<matplotlib.axes._subplots.AxesSubplot at 0x7f6f3ab33d68>"
            ]
          },
          "metadata": {
            "tags": []
          },
          "execution_count": 26
        },
        {
          "output_type": "display_data",
          "data": {
            "image/png": "[encoded data removed]",
            "text/plain": [
              "<Figure size 432x288 with 1 Axes>"
            ]
          },
          "metadata": {
            "tags": [],
            "needs_background": "light"
          }
        }
      ]
    },
    {
      "cell_type": "code",
      "metadata": {
        "id": "Q3Fv6M7egVAq",
        "colab_type": "code",
        "colab": {
          "base_uri": "https://localhost:8080/",
          "height": 906
        },
        "outputId": "d8226ef6-3b0a-4407-db29-a810af6e9b2d"
      },
      "source": [
        "Y['2016':]"
      ],
      "execution_count": 27,
      "outputs": [
        {
          "output_type": "execute_result",
          "data": {
            "text/plain": [
              "Date\n",
              "2016-01-01     98.428946\n",
              "2016-02-01     95.746500\n",
              "2016-03-01    104.267273\n",
              "2016-04-01    106.739048\n",
              "2016-05-01     94.974762\n",
              "2016-06-01     96.622273\n",
              "2016-07-01     98.556500\n",
              "2016-08-01    107.665218\n",
              "2016-09-01    110.857142\n",
              "2016-10-01    115.707143\n",
              "2016-11-01    110.154285\n",
              "2016-12-01    114.335714\n",
              "2017-01-01    119.570000\n",
              "2017-02-01    133.714209\n",
              "2017-03-01    140.617826\n",
              "2017-04-01    142.886842\n",
              "2017-05-01    152.227726\n",
              "2017-06-01    147.831362\n",
              "2017-07-01    148.299500\n",
              "2017-08-01    159.021306\n",
              "2017-09-01    157.608500\n",
              "2017-10-01    157.817273\n",
              "2017-11-01    172.406191\n",
              "2017-12-01    171.891500\n",
              "2018-01-01    174.005237\n",
              "2018-02-01    167.638947\n",
              "2018-03-01    174.496192\n",
              "2018-04-01    169.834287\n",
              "2018-05-01    185.536818\n",
              "2018-06-01    188.621429\n",
              "2018-07-01    190.311429\n",
              "2018-08-01    213.346089\n",
              "2018-09-01    222.073685\n",
              "2018-10-01    220.845652\n",
              "2018-11-01    191.235714\n",
              "2018-12-01    164.266317\n",
              "2019-01-01    154.166190\n",
              "2019-02-01    171.727893\n",
              "2019-03-01    183.293810\n",
              "2019-04-01    200.516191\n",
              "2019-05-01    191.273637\n",
              "2019-06-01    192.969000\n",
              "2019-07-01    205.216364\n",
              "2019-08-01    204.957728\n",
              "2019-09-01    217.994999\n",
              "2019-10-01    235.286521\n",
              "2019-11-01    262.520503\n",
              "2019-12-01    269.557498\n",
              "Freq: MS, Name: Close, dtype: float64"
            ]
          },
          "metadata": {
            "tags": []
          },
          "execution_count": 27
        }
      ]
    },
    {
      "cell_type": "code",
      "metadata": {
        "id": "rIzpkASjifsq",
        "colab_type": "code",
        "colab": {
          "base_uri": "https://localhost:8080/",
          "height": 1000
        },
        "outputId": "87a7d9b2-b27a-4d1f-8c1b-9b62a6577598"
      },
      "source": [
        "from sklearn.metrics import mean_squared_error\n",
        "predicted1 = []\n",
        "resid_test = []\n",
        "history = train\n",
        "for t in range(len(test)):\n",
        "    model = ARIMA(history, order=(4,1,2))\n",
        "    model_fit = model.fit(disp=0)\n",
        "    output = model_fit.forecast()\n",
        "    yhat = output[0]\n",
        "    resid_test.append(test[t] - output[0])\n",
        "    predicted1.append(yhat)\n",
        "    obs = test[t]\n",
        "    history.append(obs)\n",
        "    print('predicted=%f, expected=%f' % (yhat, obs))\n",
        "test_resid = []\n",
        "for i in resid_test:\n",
        "    test_resid.append(i[0])\n",
        "error = mean_squared_error(test, predicted1)\n",
        "print('Test MSE: %.3f' % error)\n",
        "plt.plot(test)\n",
        "plt.plot(predicted1, color='red')\n",
        "plt.show()"
      ],
      "execution_count": 38,
      "outputs": [
        {
          "output_type": "stream",
          "text": [
            "predicted=143.755294, expected=144.770004\n",
            "predicted=144.873140, expected=144.020004\n",
            "predicted=144.024531, expected=143.660004\n",
            "predicted=143.743663, expected=143.339996\n",
            "predicted=143.413986, expected=143.169998\n",
            "predicted=143.253936, expected=141.630005\n",
            "predicted=141.677560, expected=141.800003\n",
            "predicted=141.923651, expected=141.050003\n",
            "predicted=141.131326, expected=141.830002\n",
            "predicted=141.927107, expected=141.199997\n",
            "predicted=141.252155, expected=140.679993\n",
            "predicted=140.728594, expected=142.440002\n",
            "predicted=142.565770, expected=142.270004\n",
            "predicted=142.272593, expected=143.639999\n",
            "predicted=143.713760, expected=144.529999\n",
            "predicted=144.618072, expected=143.679993\n",
            "predicted=143.682897, expected=143.789993\n",
            "predicted=143.874504, expected=143.649994\n",
            "predicted=143.716846, expected=146.580002\n",
            "predicted=146.692910, expected=147.509995\n",
            "predicted=147.502723, expected=147.059998\n",
            "predicted=147.044764, expected=146.529999\n",
            "predicted=146.595982, expected=148.960007\n",
            "predicted=149.136929, expected=153.009995\n",
            "predicted=153.134515, expected=153.990005\n",
            "predicted=153.961458, expected=153.259995\n",
            "predicted=153.313398, expected=153.949997\n",
            "predicted=154.158166, expected=156.100006\n",
            "predicted=156.293155, expected=155.699997\n",
            "predicted=155.764314, expected=155.470001\n",
            "predicted=155.619520, expected=150.250000\n",
            "predicted=150.333982, expected=152.539993\n",
            "predicted=152.898686, expected=153.059998\n"
          ],
          "name": "stdout"
        },
        {
          "output_type": "stream",
          "text": [
            "/usr/local/lib/python3.6/dist-packages/statsmodels/tsa/tsatools.py:668: RuntimeWarning: overflow encountered in exp\n",
            "  newparams = ((1-np.exp(-params))/(1+np.exp(-params))).copy()\n",
            "/usr/local/lib/python3.6/dist-packages/statsmodels/tsa/tsatools.py:668: RuntimeWarning: invalid value encountered in true_divide\n",
            "  newparams = ((1-np.exp(-params))/(1+np.exp(-params))).copy()\n",
            "/usr/local/lib/python3.6/dist-packages/statsmodels/tsa/tsatools.py:669: RuntimeWarning: overflow encountered in exp\n",
            "  tmp = ((1-np.exp(-params))/(1+np.exp(-params))).copy()\n",
            "/usr/local/lib/python3.6/dist-packages/statsmodels/tsa/tsatools.py:669: RuntimeWarning: invalid value encountered in true_divide\n",
            "  tmp = ((1-np.exp(-params))/(1+np.exp(-params))).copy()\n"
          ],
          "name": "stderr"
        },
        {
          "output_type": "stream",
          "text": [
            "predicted=153.242855, expected=153.990005\n",
            "predicted=154.010940, expected=153.800003\n",
            "predicted=153.945445, expected=153.339996\n",
            "predicted=153.442644, expected=153.869995\n",
            "predicted=154.054720, expected=153.610001\n",
            "predicted=153.726663, expected=153.669998\n"
          ],
          "name": "stdout"
        },
        {
          "output_type": "stream",
          "text": [
            "/usr/local/lib/python3.6/dist-packages/statsmodels/base/model.py:492: HessianInversionWarning: Inverting hessian failed, no bse or cov_params available\n",
            "  'available', HessianInversionWarning)\n"
          ],
          "name": "stderr"
        },
        {
          "output_type": "stream",
          "text": [
            "predicted=153.786876, expected=152.759995\n",
            "predicted=152.887635, expected=153.179993\n",
            "predicted=153.340608, expected=155.449997\n",
            "predicted=155.625077, expected=153.929993\n",
            "predicted=153.936808, expected=154.449997\n",
            "predicted=154.599672, expected=155.369995\n",
            "predicted=155.550685, expected=154.990005\n",
            "predicted=155.048844, expected=148.979996\n",
            "predicted=148.992073, expected=145.419998\n",
            "predicted=145.653165, expected=146.589996\n",
            "predicted=146.942280, expected=145.160004\n",
            "predicted=145.116693, expected=144.289993\n",
            "predicted=144.289341, expected=142.270004\n",
            "predicted=142.301012, expected=146.339996\n",
            "predicted=146.488381, expected=145.009995\n",
            "predicted=144.886062, expected=145.869995\n",
            "predicted=145.813481, expected=145.630005\n",
            "predicted=145.716989, expected=146.279999\n",
            "predicted=146.258552, expected=145.820007\n",
            "predicted=145.860092, expected=143.729996\n",
            "predicted=143.713558, expected=145.830002\n",
            "predicted=145.993285, expected=143.679993\n",
            "predicted=143.650061, expected=144.020004\n",
            "predicted=144.050377, expected=143.500000\n",
            "predicted=143.596841, expected=144.089996\n",
            "predicted=144.092399, expected=142.729996\n",
            "predicted=142.751260, expected=144.179993\n",
            "predicted=144.237886, expected=145.059998\n",
            "predicted=145.073308, expected=145.529999\n",
            "predicted=145.565604, expected=145.740005\n",
            "predicted=145.808066, expected=147.770004\n",
            "predicted=147.838823, expected=149.039993\n",
            "predicted=149.070759, expected=149.559998\n",
            "predicted=149.576164, expected=150.080002\n",
            "predicted=150.141783, expected=151.020004\n",
            "predicted=151.096304, expected=150.339996\n",
            "predicted=150.346313, expected=150.270004\n",
            "predicted=150.362125, expected=152.089996\n",
            "predicted=152.211996, expected=152.740005\n",
            "predicted=152.727631, expected=153.460007\n",
            "predicted=153.498296, expected=150.559998\n",
            "predicted=150.591996, expected=149.500000\n",
            "predicted=149.646057, expected=148.729996\n",
            "predicted=148.918201, expected=150.050003\n",
            "predicted=150.155717, expected=157.139999\n",
            "predicted=157.318505, expected=155.570007\n",
            "predicted=155.348016, expected=156.389999\n",
            "predicted=156.375237, expected=158.809998\n",
            "predicted=159.020985, expected=160.080002\n",
            "predicted=160.066038, expected=161.059998\n",
            "predicted=161.119818, expected=155.320007\n",
            "predicted=155.438057, expected=157.479996\n",
            "predicted=157.534165, expected=159.850006\n",
            "predicted=160.008510, expected=161.600006\n",
            "predicted=161.370050, expected=160.949997\n",
            "predicted=160.917228, expected=157.860001\n",
            "predicted=157.940379, expected=157.500000\n",
            "predicted=157.774468, expected=157.210007\n",
            "predicted=157.417273, expected=159.779999\n",
            "predicted=159.900952, expected=159.979996\n",
            "predicted=159.977276, expected=159.270004\n",
            "predicted=159.254449, expected=159.860001\n",
            "predicted=160.005632, expected=161.470001\n",
            "predicted=161.589260, expected=162.910004\n",
            "predicted=162.940446, expected=163.350006\n",
            "predicted=163.358889, expected=164.000000\n",
            "predicted=164.075138, expected=164.050003\n",
            "predicted=164.147847, expected=162.080002\n",
            "predicted=162.158855, expected=161.910004\n",
            "predicted=162.107495, expected=161.259995\n",
            "predicted=161.430911, expected=158.630005\n",
            "predicted=158.698563, expected=161.500000\n",
            "predicted=161.735926, expected=160.860001\n",
            "predicted=160.893504, expected=159.649994\n",
            "predicted=159.623518, expected=158.279999\n",
            "predicted=158.423392, expected=159.880005\n",
            "predicted=160.045365, expected=158.669998\n",
            "predicted=158.722007, expected=158.729996\n",
            "predicted=158.807907, expected=156.070007\n",
            "predicted=156.150165, expected=153.389999\n",
            "predicted=153.486815, expected=151.889999\n",
            "predicted=152.082087, expected=150.550003\n",
            "predicted=150.644764, expected=153.139999\n",
            "predicted=153.241322, expected=154.229996\n",
            "predicted=154.171047, expected=153.279999\n",
            "predicted=153.125985, expected=154.119995\n",
            "predicted=154.167081, expected=153.809998\n",
            "predicted=153.839123, expected=154.479996\n",
            "predicted=154.499794, expected=153.479996\n",
            "predicted=153.496039, expected=155.389999\n",
            "predicted=155.468573, expected=155.300003\n",
            "predicted=155.314777, expected=155.839996\n",
            "predicted=155.831924, expected=155.899994\n",
            "predicted=155.961687, expected=156.550003\n",
            "predicted=156.602838, expected=156.000000\n",
            "predicted=156.042703, expected=156.990005\n",
            "predicted=157.072865, expected=159.880005\n",
            "predicted=159.981113, expected=160.470001\n",
            "predicted=160.418511, expected=159.759995\n",
            "predicted=159.739057, expected=155.979996\n",
            "predicted=156.058830, expected=156.250000\n",
            "predicted=156.522409, expected=156.169998\n",
            "predicted=156.367327, expected=157.100006\n",
            "predicted=157.139362, expected=156.410004\n",
            "predicted=156.431824, expected=157.410004\n",
            "predicted=157.473842, expected=163.050003\n",
            "predicted=163.131231, expected=166.720001\n",
            "predicted=166.746297, expected=169.039993\n",
            "predicted=168.998060, expected=166.889999\n",
            "predicted=166.873210, expected=168.110001\n",
            "predicted=168.233627, expected=172.500000\n",
            "predicted=172.839868, expected=174.250000\n",
            "predicted=174.251821, expected=174.809998\n",
            "predicted=174.819620, expected=176.240005\n",
            "predicted=176.471418, expected=175.880005\n",
            "predicted=176.051034, expected=174.669998\n",
            "predicted=174.826824, expected=173.970001\n",
            "predicted=174.222541, expected=171.339996\n",
            "predicted=171.493560, expected=169.080002\n",
            "predicted=169.242605, expected=171.100006\n",
            "predicted=171.420486, expected=170.149994\n",
            "predicted=170.180327, expected=169.979996\n",
            "predicted=169.991687, expected=173.139999\n",
            "predicted=173.355842, expected=174.960007\n",
            "predicted=174.971857, expected=174.970001\n",
            "predicted=174.904861, expected=174.089996\n",
            "predicted=174.150390, expected=173.070007\n",
            "predicted=173.201056, expected=169.479996\n",
            "predicted=169.492156, expected=171.850006\n",
            "predicted=172.155217, expected=171.050003\n",
            "predicted=171.126632, expected=169.800003\n",
            "predicted=169.756471, expected=169.639999\n",
            "predicted=169.796773, expected=169.009995\n",
            "predicted=169.085666, expected=169.320007\n",
            "predicted=169.400151, expected=169.369995\n",
            "predicted=169.431560, expected=172.669998\n",
            "predicted=172.793997, expected=171.699997\n",
            "predicted=171.625644, expected=172.270004\n",
            "predicted=172.289056, expected=172.220001\n",
            "predicted=172.342845, expected=173.970001\n",
            "predicted=174.065338, expected=176.419998\n",
            "predicted=176.519712, expected=174.539993\n",
            "predicted=174.447840, expected=174.350006\n",
            "predicted=174.455267, expected=175.009995\n",
            "predicted=175.215827, expected=175.009995\n",
            "predicted=175.071361, expected=170.570007\n",
            "predicted=170.542931, expected=170.600006\n",
            "predicted=170.901633, expected=171.080002\n",
            "predicted=171.145527, expected=169.229996\n",
            "predicted=169.211928, expected=172.259995\n",
            "predicted=172.547298, expected=172.229996\n",
            "predicted=172.319776, expected=173.029999\n"
          ],
          "name": "stdout"
        },
        {
          "output_type": "stream",
          "text": [
            "/usr/local/lib/python3.6/dist-packages/statsmodels/base/model.py:492: HessianInversionWarning: Inverting hessian failed, no bse or cov_params available\n",
            "  'available', HessianInversionWarning)\n"
          ],
          "name": "stderr"
        },
        {
          "output_type": "stream",
          "text": [
            "predicted=173.032091, expected=175.000000\n",
            "predicted=175.246953, expected=174.350006\n",
            "predicted=174.371134, expected=174.330002\n",
            "predicted=174.248789, expected=174.289993\n",
            "predicted=174.587068, expected=175.279999\n",
            "predicted=175.237224, expected=177.089996\n",
            "predicted=177.185513, expected=176.190002\n",
            "predicted=176.169615, expected=179.100006\n",
            "predicted=179.250830, expected=179.259995\n",
            "predicted=179.300018, expected=178.460007\n",
            "predicted=178.462394, expected=177.000000\n",
            "predicted=177.206679, expected=177.039993\n",
            "predicted=177.222571, expected=174.220001\n",
            "predicted=174.079250, expected=171.110001\n",
            "predicted=171.192234, expected=171.509995\n",
            "predicted=171.866429, expected=167.960007\n",
            "predicted=167.835537, expected=166.970001\n",
            "predicted=167.209397, expected=167.429993\n",
            "predicted=167.663201, expected=167.779999\n",
            "predicted=167.648233, expected=160.500000\n",
            "predicted=160.301135, expected=156.490005\n",
            "predicted=156.584985, expected=163.029999\n",
            "predicted=163.481404, expected=159.539993\n",
            "predicted=159.137720, expected=155.149994\n",
            "predicted=155.729424, expected=156.410004\n",
            "predicted=156.693529, expected=162.710007\n",
            "predicted=162.229939, expected=164.339996\n",
            "predicted=164.336514, expected=167.369995\n",
            "predicted=167.988292, expected=172.990005\n",
            "predicted=172.693119, expected=172.429993\n",
            "predicted=171.970896, expected=171.850006\n",
            "predicted=172.681786, expected=171.070007\n",
            "predicted=171.095615, expected=172.500000\n",
            "predicted=171.976536, expected=175.500000\n",
            "predicted=175.999180, expected=178.970001\n",
            "predicted=179.358060, expected=178.389999\n",
            "predicted=177.784295, expected=178.119995\n",
            "predicted=178.364508, expected=175.000000\n",
            "predicted=174.984863, expected=176.210007\n",
            "predicted=176.404480, expected=176.820007\n",
            "predicted=177.015003, expected=176.669998\n",
            "predicted=177.183360, expected=175.029999\n",
            "predicted=175.141857, expected=176.940002\n",
            "predicted=177.219113, expected=179.979996\n",
            "predicted=180.278362, expected=181.720001\n",
            "predicted=181.936147, expected=179.970001\n",
            "predicted=179.662622, expected=178.440002\n",
            "predicted=178.604517, expected=178.649994\n",
            "predicted=179.027393, expected=178.020004\n",
            "predicted=177.816730, expected=175.300003\n",
            "predicted=175.224089, expected=175.240005\n",
            "predicted=175.734087, expected=171.270004\n",
            "predicted=171.042446, expected=168.850006\n",
            "predicted=168.810779, expected=164.940002\n",
            "predicted=165.175324, expected=172.770004\n",
            "predicted=173.117892, expected=168.339996\n",
            "predicted=168.085097, expected=166.479996\n",
            "predicted=166.449155, expected=167.779999\n",
            "predicted=168.384521, expected=166.679993\n",
            "predicted=166.383781, expected=168.389999\n",
            "predicted=168.636454, expected=171.610001\n",
            "predicted=172.008176, expected=172.800003\n",
            "predicted=172.360955, expected=168.380005\n",
            "predicted=168.440760, expected=170.050003\n",
            "predicted=170.561496, expected=173.250000\n",
            "predicted=173.092047, expected=172.440002\n",
            "predicted=172.312369, expected=174.139999\n",
            "predicted=174.458810, expected=174.729996\n",
            "predicted=174.641600, expected=175.820007\n",
            "predicted=175.809676, expected=178.240005\n",
            "predicted=178.509941, expected=177.839996\n",
            "predicted=177.627013, expected=172.800003\n",
            "predicted=172.767722, expected=165.720001\n",
            "predicted=166.005892, expected=165.240005\n",
            "predicted=165.545345, expected=162.940002\n",
            "predicted=162.970469, expected=163.649994\n",
            "predicted=163.771797, expected=164.220001\n",
            "predicted=164.022158, expected=162.320007\n",
            "predicted=162.167090, expected=165.259995\n",
            "predicted=165.570036, expected=169.100006\n",
            "predicted=169.254684, expected=176.570007\n",
            "predicted=176.523527, expected=176.889999\n",
            "predicted=176.845552, expected=183.830002\n",
            "predicted=184.105881, expected=185.160004\n",
            "predicted=185.210093, expected=186.050003\n",
            "predicted=185.928369, expected=187.360001\n",
            "predicted=187.769299, expected=190.039993\n",
            "predicted=190.053209, expected=188.589996\n",
            "predicted=188.454509, expected=188.149994\n",
            "predicted=188.445324, expected=186.440002\n",
            "predicted=186.416774, expected=188.179993\n",
            "predicted=188.235017, expected=186.990005\n",
            "predicted=187.180489, expected=186.309998\n",
            "predicted=186.189016, expected=187.630005\n",
            "predicted=187.915860, expected=187.160004\n",
            "predicted=187.174417, expected=188.360001\n",
            "predicted=188.361157, expected=188.149994\n",
            "predicted=188.397101, expected=188.580002\n",
            "predicted=188.530314, expected=187.899994\n",
            "predicted=187.977740, expected=187.500000\n",
            "predicted=187.641828, expected=186.869995\n",
            "predicted=186.859412, expected=190.240005\n",
            "predicted=190.498836, expected=191.830002\n",
            "predicted=191.925298, expected=193.309998\n",
            "predicted=193.273702, expected=193.979996\n",
            "predicted=194.249810, expected=193.460007\n",
            "predicted=193.420396, expected=191.699997\n",
            "predicted=191.680022, expected=191.229996\n",
            "predicted=191.467942, expected=192.279999\n",
            "predicted=192.326368, expected=190.699997\n",
            "predicted=190.630091, expected=190.800003\n",
            "predicted=191.018939, expected=188.839996\n",
            "predicted=188.832510, expected=188.740005\n",
            "predicted=188.735554, expected=185.690002\n",
            "predicted=185.808600, expected=186.500000\n",
            "predicted=186.540894, expected=185.460007\n",
            "predicted=185.546673, expected=184.919998\n",
            "predicted=184.910287, expected=182.169998\n",
            "predicted=182.215378, expected=184.429993\n",
            "predicted=184.617827, expected=184.160004\n",
            "predicted=184.188007, expected=185.500000\n",
            "predicted=185.514252, expected=185.110001\n",
            "predicted=185.344868, expected=187.179993\n",
            "predicted=187.198982, expected=183.919998\n",
            "predicted=183.874560, expected=185.399994\n",
            "predicted=185.602687, expected=187.970001\n",
            "predicted=188.220209, expected=190.580002\n",
            "predicted=190.453574, expected=190.350006\n",
            "predicted=190.554109, expected=187.880005\n",
            "predicted=187.885214, expected=191.029999\n",
            "predicted=191.219383, expected=191.330002\n",
            "predicted=191.383759, expected=190.910004\n",
            "predicted=190.759221, expected=191.449997\n",
            "predicted=191.807347, expected=190.399994\n",
            "predicted=190.340484, expected=191.880005\n",
            "predicted=191.915017, expected=191.440002\n",
            "predicted=191.701565, expected=191.610001\n",
            "predicted=191.490126, expected=193.000000\n",
            "predicted=193.238468, expected=194.820007\n",
            "predicted=194.970810, expected=194.210007\n",
            "predicted=194.088719, expected=190.979996\n",
            "predicted=191.073435, expected=189.910004\n",
            "predicted=190.074329, expected=190.289993\n",
            "predicted=190.315890, expected=201.500000\n",
            "predicted=202.043027, expected=207.389999\n",
            "predicted=207.498704, expected=207.990005\n",
            "predicted=207.599514, expected=209.070007\n",
            "predicted=209.499351, expected=207.110001\n",
            "predicted=206.941922, expected=207.250000\n",
            "predicted=207.163241, expected=208.880005\n",
            "predicted=209.478671, expected=207.529999\n",
            "predicted=207.460387, expected=208.869995\n",
            "predicted=209.074621, expected=209.750000\n",
            "predicted=210.162915, expected=210.240005\n",
            "predicted=209.905272, expected=213.320007\n",
            "predicted=213.502890, expected=217.580002\n",
            "predicted=217.869393, expected=215.460007\n",
            "predicted=215.175564, expected=215.039993\n",
            "predicted=215.305379, expected=215.050003\n",
            "predicted=215.183341, expected=215.490005\n",
            "predicted=215.690840, expected=216.160004\n",
            "predicted=216.581260, expected=217.940002\n",
            "predicted=217.958653, expected=219.699997\n",
            "predicted=219.740391, expected=222.979996\n",
            "predicted=223.217009, expected=225.029999\n",
            "predicted=225.222857, expected=227.630005\n",
            "predicted=227.725347, expected=228.360001\n",
            "predicted=228.575092, expected=226.869995\n",
            "predicted=226.675532, expected=223.100006\n",
            "predicted=223.159611, expected=221.300003\n",
            "predicted=221.410961, expected=218.330002\n",
            "predicted=218.240755, expected=223.850006\n",
            "predicted=224.401354, expected=221.070007\n",
            "predicted=220.924454, expected=226.410004\n",
            "predicted=226.517411, expected=223.839996\n",
            "predicted=223.935680, expected=217.880005\n",
            "predicted=217.553767, expected=218.240005\n",
            "predicted=218.765809, expected=218.369995\n",
            "predicted=218.390705, expected=220.029999\n",
            "predicted=219.775452, expected=217.660004\n",
            "predicted=217.827400, expected=220.789993\n",
            "predicted=221.142661, expected=222.190002\n",
            "predicted=222.062189, expected=220.419998\n",
            "predicted=220.452549, expected=224.949997\n",
            "predicted=225.122488, expected=225.740005\n",
            "predicted=225.950862, expected=227.259995\n",
            "predicted=227.164501, expected=229.279999\n",
            "predicted=229.568048, expected=232.070007\n",
            "predicted=232.222215, expected=227.990005\n",
            "predicted=227.667319, expected=224.289993\n",
            "predicted=224.694273, expected=223.770004\n",
            "predicted=223.834196, expected=226.869995\n",
            "predicted=226.621636, expected=216.360001\n",
            "predicted=216.221162, expected=214.449997\n",
            "predicted=214.981853, expected=222.110001\n",
            "predicted=222.135691, expected=217.360001\n",
            "predicted=216.570714, expected=222.149994\n",
            "predicted=223.324700, expected=221.190002\n",
            "predicted=221.195500, expected=216.020004\n",
            "predicted=215.222762, expected=219.309998\n",
            "predicted=220.375435, expected=220.649994\n",
            "predicted=220.638807, expected=222.729996\n",
            "predicted=222.087885, expected=215.089996\n",
            "predicted=215.622225, expected=219.800003\n",
            "predicted=220.591743, expected=216.300003\n",
            "predicted=216.284040, expected=212.240005\n",
            "predicted=212.534130, expected=213.300003\n",
            "predicted=214.437771, expected=218.860001\n",
            "predicted=217.913159, expected=222.220001\n",
            "predicted=222.120375, expected=207.479996\n",
            "predicted=208.641621, expected=201.589996\n",
            "predicted=202.089277, expected=203.770004\n",
            "predicted=203.130265, expected=209.949997\n",
            "predicted=210.156786, expected=208.490005\n",
            "predicted=208.635341, expected=204.470001\n",
            "predicted=204.294083, expected=194.169998\n",
            "predicted=193.898448, expected=192.229996\n",
            "predicted=193.004537, expected=186.800003\n",
            "predicted=186.842580, expected=191.410004\n",
            "predicted=191.559525, expected=193.529999\n",
            "predicted=193.409873, expected=185.860001\n",
            "predicted=184.958012, expected=176.979996\n",
            "predicted=176.641266, expected=176.779999\n",
            "predicted=177.917079, expected=172.289993\n",
            "predicted=172.751787, expected=174.619995\n",
            "predicted=175.345349, expected=174.240005\n",
            "predicted=173.957725, expected=180.940002\n",
            "predicted=180.890027, expected=179.550003\n",
            "predicted=179.145870, expected=178.580002\n",
            "predicted=178.235988, expected=184.820007\n",
            "predicted=185.634833, expected=176.690002\n",
            "predicted=176.627309, expected=174.720001\n",
            "predicted=175.657398, expected=168.490005\n",
            "predicted=168.396312, expected=169.600006\n",
            "predicted=169.744216, expected=168.630005\n",
            "predicted=168.178754, expected=169.100006\n",
            "predicted=168.968424, expected=170.949997\n",
            "predicted=170.891825, expected=165.479996\n",
            "predicted=165.304391, expected=163.940002\n",
            "predicted=163.707782, expected=166.070007\n",
            "predicted=166.548414, expected=160.889999\n",
            "predicted=160.750448, expected=156.830002\n",
            "predicted=156.549133, expected=150.729996\n",
            "predicted=150.240180, expected=146.830002\n",
            "predicted=146.801722, expected=157.169998\n",
            "predicted=158.070808, expected=156.149994\n",
            "predicted=156.002472, expected=156.229996\n",
            "predicted=156.323794, expected=157.740005\n",
            "predicted=157.715202, expected=157.919998\n",
            "predicted=157.730322, expected=142.190002\n",
            "predicted=141.336451, expected=148.259995\n",
            "predicted=148.917948, expected=147.929993\n",
            "predicted=147.783511, expected=150.750000\n",
            "predicted=149.977106, expected=153.309998\n",
            "predicted=152.887874, expected=153.800003\n",
            "predicted=153.331911, expected=152.289993\n",
            "predicted=151.940452, expected=150.000000\n",
            "predicted=149.831847, expected=153.070007\n",
            "predicted=153.144512, expected=154.940002\n",
            "predicted=154.780351, expected=155.860001\n",
            "predicted=155.573468, expected=156.820007\n",
            "predicted=156.660272, expected=153.300003\n",
            "predicted=153.125544, expected=153.919998\n",
            "predicted=154.053239, expected=152.699997\n",
            "predicted=152.760280, expected=157.759995\n",
            "predicted=157.860489, expected=156.300003\n",
            "predicted=156.072439, expected=154.679993\n",
            "predicted=154.532504, expected=165.250000\n",
            "predicted=165.512498, expected=166.440002\n",
            "predicted=166.042594, expected=166.520004\n",
            "predicted=166.255702, expected=171.250000\n",
            "predicted=171.438557, expected=174.179993\n",
            "predicted=174.249491, expected=174.240005\n",
            "predicted=174.287737, expected=170.940002\n",
            "predicted=171.133705, expected=170.410004\n",
            "predicted=170.897801, expected=169.429993\n",
            "predicted=169.826566, expected=170.889999\n",
            "predicted=171.238008, expected=170.179993\n",
            "predicted=170.333369, expected=170.800003\n",
            "predicted=170.995260, expected=170.419998\n",
            "predicted=170.575683, expected=170.929993\n",
            "predicted=171.106599, expected=172.029999\n",
            "predicted=172.185368, expected=171.059998\n",
            "predicted=171.129862, expected=172.970001\n",
            "predicted=173.162103, expected=174.229996\n",
            "predicted=174.322773, expected=174.330002\n",
            "predicted=174.371093, expected=174.869995\n",
            "predicted=174.995765, expected=173.149994\n",
            "predicted=173.262936, expected=174.970001\n",
            "predicted=175.230909, expected=175.850006\n",
            "predicted=175.971176, expected=175.529999\n",
            "predicted=175.586100, expected=174.520004\n",
            "predicted=174.645893, expected=172.500000\n",
            "predicted=172.679099, expected=172.910004\n",
            "predicted=173.177385, expected=178.899994\n",
            "predicted=179.126513, expected=180.910004\n",
            "predicted=180.721655, expected=181.710007\n",
            "predicted=181.574663, expected=183.729996\n",
            "predicted=183.825658, expected=186.119995\n",
            "predicted=186.251662, expected=188.020004\n",
            "predicted=188.124892, expected=186.529999\n",
            "predicted=186.612275, expected=188.160004\n",
            "predicted=188.496504, expected=195.089996\n"
          ],
          "name": "stdout"
        },
        {
          "output_type": "stream",
          "text": [
            "/usr/local/lib/python3.6/dist-packages/statsmodels/base/model.py:492: HessianInversionWarning: Inverting hessian failed, no bse or cov_params available\n",
            "  'available', HessianInversionWarning)\n"
          ],
          "name": "stderr"
        },
        {
          "output_type": "stream",
          "text": [
            "predicted=195.364816, expected=191.050003\n",
            "predicted=190.867696, expected=188.740005\n",
            "predicted=189.070309, expected=186.789993\n",
            "predicted=187.310573, expected=188.470001\n",
            "predicted=188.879522, expected=188.720001\n",
            "predicted=188.869319, expected=189.949997\n",
            "predicted=190.071090, expected=191.240005\n",
            "predicted=191.369401, expected=194.020004\n",
            "predicted=194.152312, expected=195.350006\n",
            "predicted=195.406548, expected=195.690002\n",
            "predicted=195.788826, expected=197.000000\n",
            "predicted=197.241846, expected=200.100006\n",
            "predicted=200.347868, expected=199.500000\n",
            "predicted=199.564555, expected=200.619995\n",
            "predicted=200.883258, expected=198.949997\n",
            "predicted=199.198844, expected=198.869995\n",
            "predicted=199.192754, expected=199.229996\n",
            "predicted=199.551624, expected=199.250000\n",
            "predicted=199.446464, expected=203.130005\n",
            "predicted=203.406960, expected=203.860001\n",
            "predicted=203.894691, expected=204.529999\n",
            "predicted=204.639506, expected=207.479996\n",
            "predicted=207.732394, expected=207.160004\n",
            "predicted=207.263666, expected=205.279999\n",
            "predicted=205.484192, expected=204.300003\n",
            "predicted=204.678352, expected=204.610001\n",
            "predicted=204.984369, expected=200.669998\n",
            "predicted=200.806349, expected=210.520004\n",
            "predicted=211.036453, expected=209.149994\n",
            "predicted=208.935991, expected=211.750000\n",
            "predicted=211.785486, expected=208.479996\n",
            "predicted=208.609840, expected=202.860001\n",
            "predicted=203.143968, expected=202.899994\n",
            "predicted=203.493018, expected=200.720001\n",
            "predicted=201.064328, expected=197.179993\n",
            "predicted=197.386607, expected=185.720001\n",
            "predicted=185.765812, expected=188.660004\n",
            "predicted=189.231266, expected=190.919998\n",
            "predicted=190.999181, expected=190.080002\n",
            "predicted=189.610318, expected=189.000000\n",
            "predicted=188.837380, expected=183.089996\n",
            "predicted=182.904374, expected=186.600006\n",
            "predicted=186.783487, expected=182.779999\n",
            "predicted=182.582021, expected=179.660004\n",
            "predicted=179.461767, expected=178.970001\n",
            "predicted=178.988462, expected=178.229996\n",
            "predicted=178.083297, expected=177.380005\n",
            "predicted=177.137895, expected=178.300003\n",
            "predicted=178.094001, expected=175.070007\n",
            "predicted=174.752133, expected=173.300003\n",
            "predicted=173.140012, expected=179.639999\n",
            "predicted=179.644226, expected=182.539993\n",
            "predicted=182.112713, expected=185.220001\n",
            "predicted=184.801455, expected=190.149994\n",
            "predicted=190.031584, expected=192.580002\n",
            "predicted=192.451646, expected=194.809998\n",
            "predicted=194.823916, expected=194.190002\n",
            "predicted=194.290264, expected=194.149994\n",
            "predicted=194.394288, expected=192.740005\n",
            "predicted=192.987502, expected=193.889999\n",
            "predicted=194.186277, expected=198.449997\n",
            "predicted=198.734612, expected=197.869995\n",
            "predicted=197.844620, expected=199.460007\n",
            "predicted=199.633762, expected=198.779999\n",
            "predicted=198.981839, expected=198.580002\n",
            "predicted=198.818624, expected=195.570007\n",
            "predicted=195.775373, expected=199.800003\n",
            "predicted=200.187083, expected=199.740005\n",
            "predicted=199.810078, expected=197.919998\n",
            "predicted=197.934834, expected=201.550003\n",
            "predicted=201.846633, expected=202.729996\n",
            "predicted=202.804204, expected=204.410004\n",
            "predicted=204.472075, expected=204.229996\n",
            "predicted=204.335885, expected=200.020004\n",
            "predicted=200.142451, expected=201.240005\n",
            "predicted=201.642207, expected=203.229996\n",
            "predicted=203.469775, expected=201.750000\n",
            "predicted=201.743463, expected=203.300003\n",
            "predicted=203.462735, expected=205.210007\n",
            "predicted=205.330521, expected=204.500000\n",
            "predicted=204.511011, expected=203.350006\n",
            "predicted=203.469624, expected=205.660004\n",
            "predicted=205.907113, expected=202.589996\n",
            "predicted=202.616736, expected=207.220001\n",
            "predicted=207.478610, expected=208.839996\n",
            "predicted=208.851629, expected=208.669998\n",
            "predicted=208.648020, expected=207.020004\n",
            "predicted=207.141174, expected=207.740005\n",
            "predicted=208.007813, expected=209.679993\n",
            "predicted=209.879485, expected=208.779999\n",
            "predicted=208.826769, expected=213.039993\n",
            "predicted=213.238289, expected=208.429993\n",
            "predicted=208.403242, expected=204.020004\n",
            "predicted=204.256777, expected=193.339996\n",
            "predicted=193.587161, expected=197.000000\n",
            "predicted=197.631659, expected=199.039993\n",
            "predicted=199.154801, expected=203.429993\n",
            "predicted=203.166154, expected=200.990005\n",
            "predicted=200.587225, expected=200.479996\n",
            "predicted=200.366948, expected=208.970001\n",
            "predicted=209.228012, expected=202.750000\n",
            "predicted=202.421374, expected=201.740005\n",
            "predicted=201.819307, expected=206.500000\n",
            "predicted=206.819522, expected=210.350006\n",
            "predicted=210.228597, expected=210.360001\n",
            "predicted=210.138830, expected=212.639999\n",
            "predicted=212.738103, expected=212.460007\n",
            "predicted=212.575383, expected=202.639999\n",
            "predicted=202.723240, expected=206.490005\n",
            "predicted=207.165805, expected=204.160004\n",
            "predicted=204.354704, expected=205.529999\n",
            "predicted=205.632648, expected=209.009995\n",
            "predicted=209.054679, expected=208.740005\n",
            "predicted=208.611980, expected=205.699997\n",
            "predicted=205.689973, expected=209.190002\n",
            "predicted=209.417787, expected=213.279999\n",
            "predicted=213.290765, expected=213.259995\n",
            "predicted=213.102782, expected=214.169998\n",
            "predicted=214.212146, expected=216.699997\n",
            "predicted=216.828694, expected=223.589996\n",
            "predicted=223.689736, expected=223.089996\n",
            "predicted=222.945823, expected=218.750000\n",
            "predicted=218.873923, expected=219.899994\n",
            "predicted=220.434152, expected=220.699997\n",
            "predicted=221.023841, expected=222.770004\n",
            "predicted=222.955782, expected=220.960007\n",
            "predicted=221.043795, expected=217.729996\n",
            "predicted=217.968322, expected=218.720001\n",
            "predicted=219.128464, expected=217.679993\n",
            "predicted=217.850569, expected=221.029999\n",
            "predicted=221.115451, expected=219.889999\n",
            "predicted=219.819613, expected=218.820007\n",
            "predicted=219.041328, expected=223.970001\n",
            "predicted=224.263056, expected=224.589996\n",
            "predicted=224.585009, expected=218.960007\n",
            "predicted=218.943158, expected=220.820007\n",
            "predicted=221.279861, expected=227.009995\n",
            "predicted=227.183183, expected=227.059998\n",
            "predicted=226.749931, expected=224.399994\n",
            "predicted=224.434788, expected=227.029999\n",
            "predicted=227.436844, expected=230.089996\n",
            "predicted=230.177369, expected=236.210007\n",
            "predicted=236.167429, expected=235.869995\n",
            "predicted=235.696572, expected=235.320007\n",
            "predicted=235.513201, expected=234.369995\n",
            "predicted=234.773142, expected=235.279999\n",
            "predicted=235.645225, expected=236.410004\n",
            "predicted=236.648010, expected=240.509995\n",
            "predicted=240.689110, expected=239.960007\n",
            "predicted=239.957896, expected=243.179993\n",
            "predicted=243.423418, expected=243.580002\n",
            "predicted=243.753398, expected=246.580002\n",
            "predicted=246.808209, expected=249.050003\n",
            "predicted=249.255937, expected=243.289993\n",
            "predicted=243.403181, expected=243.259995\n",
            "predicted=243.904804, expected=248.759995\n",
            "predicted=249.246128, expected=255.820007\n",
            "predicted=255.763160, expected=257.500000\n",
            "predicted=257.247759, expected=257.130005\n",
            "predicted=257.277912, expected=257.239990\n",
            "predicted=257.742904, expected=259.429993\n",
            "predicted=259.945276, expected=260.140015\n",
            "predicted=260.458861, expected=262.200012\n",
            "predicted=262.559610, expected=261.959991\n",
            "predicted=262.270659, expected=264.470001\n",
            "predicted=264.899706, expected=262.640015\n",
            "predicted=262.928440, expected=265.760010\n",
            "predicted=266.245190, expected=267.100006\n",
            "predicted=267.412758, expected=266.290009\n",
            "predicted=266.503751, expected=263.190002\n",
            "predicted=263.597978, expected=262.010010\n",
            "predicted=262.582562, expected=261.779999\n",
            "predicted=262.226110, expected=266.369995\n",
            "predicted=266.674912, expected=264.290009\n",
            "predicted=264.203919, expected=267.839996\n",
            "predicted=268.075959, expected=267.250000\n",
            "predicted=267.398996, expected=264.160004\n",
            "predicted=264.313504, expected=259.450012\n",
            "predicted=259.889374, expected=261.739990\n",
            "predicted=262.320684, expected=265.579987\n",
            "predicted=265.715508, expected=270.709991\n",
            "predicted=270.508890, expected=266.920013\n",
            "predicted=266.601005, expected=268.480011\n",
            "predicted=268.796028, expected=270.769989\n",
            "predicted=271.121368, expected=271.459991\n",
            "predicted=271.461846, expected=275.149994\n",
            "predicted=275.318274, expected=279.859985\n",
            "predicted=279.959862, expected=280.410004\n",
            "Test MSE: 8.918\n"
          ],
          "name": "stdout"
        },
        {
          "output_type": "display_data",
          "data": {
            "image/png": "[encoded data removed]",
            "text/plain": [
              "<Figure size 432x288 with 1 Axes>"
            ]
          },
          "metadata": {
            "tags": [],
            "needs_background": "light"
          }
        }
      ]
    },
    {
      "cell_type": "code",
      "metadata": {
        "id": "lmbE2A8d2yjk",
        "colab_type": "code",
        "colab": {
          "base_uri": "https://localhost:8080/",
          "height": 35
        },
        "outputId": "89cb390f-d683-46dc-b53b-fb3039ebe4a2"
      },
      "source": [
        "#create a new dataframe with only close column\n",
        "data=df.filter(['Close'])\n",
        "#convert into numpy array\n",
        "dataset=data.values\n",
        "\n",
        "#get the nmb of rows to train our model\n",
        "training_data_len=math.ceil(len(dataset)*.8)\n",
        "\n",
        "training_data_len"
      ],
      "execution_count": 31,
      "outputs": [
        {
          "output_type": "execute_result",
          "data": {
            "text/plain": [
              "1603"
            ]
          },
          "metadata": {
            "tags": []
          },
          "execution_count": 31
        }
      ]
    },
    {
      "cell_type": "code",
      "metadata": {
        "id": "OYg_drN23_4h",
        "colab_type": "code",
        "colab": {
          "base_uri": "https://localhost:8080/",
          "height": 141
        },
        "outputId": "d4768a02-4fd0-4c20-cd92-ec256ca1a6f5"
      },
      "source": [
        "#scale the data\n",
        "from sklearn.preprocessing import MinMaxScaler\n",
        "scaler=MinMaxScaler(feature_range=(0,1))\n",
        "scaled_data=scaler.fit_transform(dataset)\n",
        "scaled_data\n",
        "\n",
        "\n"
      ],
      "execution_count": 32,
      "outputs": [
        {
          "output_type": "execute_result",
          "data": {
            "text/plain": [
              "array([[0.01316509],\n",
              "       [0.01457064],\n",
              "       [0.01748985],\n",
              "       ...,\n",
              "       [0.97658263],\n",
              "       [0.99755134],\n",
              "       [1.        ]])"
            ]
          },
          "metadata": {
            "tags": []
          },
          "execution_count": 32
        }
      ]
    },
    {
      "cell_type": "code",
      "metadata": {
        "id": "TRglMuzW_NbN",
        "colab_type": "code",
        "colab": {
          "base_uri": "https://localhost:8080/",
          "height": 266
        },
        "outputId": "26bf5c87-da83-4d9d-9c7f-4e9e73cf91f9"
      },
      "source": [
        "#create the training data set\n",
        "\n",
        "train_data=scaled_data[0:1603, :]\n",
        "#split into X-train abd y train\n",
        "X_train=[]\n",
        "Y_train=[]\n",
        "for i in range (60,len(train_data)):\n",
        "  X_train.append(train_data[i-60:i,0])\n",
        "  Y_train.append(train_data[i,0])\n",
        "  if i<=60:\n",
        "    print(X_train)\n",
        "    print(Y_train)\n",
        "    print()\n"
      ],
      "execution_count": 33,
      "outputs": [
        {
          "output_type": "stream",
          "text": [
            "[array([0.01316509, 0.01457064, 0.01748985, 0.02026915, 0.01984303,\n",
            "       0.02080338, 0.02036454, 0.01962679, 0.01862193, 0.02173194,\n",
            "       0.02453668, 0.02367172, 0.01893356, 0.02345548, 0.01900352,\n",
            "       0.03569838, 0.03440731, 0.0360927 , 0.03973694, 0.04194384,\n",
            "       0.0417594 , 0.0410789 , 0.04397903, 0.04670744, 0.04979839,\n",
            "       0.05479095, 0.0652785 , 0.06543749, 0.07127594, 0.07563885,\n",
            "       0.06814046, 0.07102789, 0.07097066, 0.07906688, 0.07791571,\n",
            "       0.08004628, 0.08387497, 0.08600558, 0.09214292, 0.09661397,\n",
            "       0.09790501, 0.09835659, 0.09071194, 0.08886753, 0.08914103,\n",
            "       0.09632775, 0.09835024, 0.10269405, 0.11293358, 0.12659476,\n",
            "       0.12403805, 0.1240444 , 0.13392141, 0.13701233, 0.13481179,\n",
            "       0.13280207, 0.13070964, 0.13766105, 0.14243103, 0.14442805])]\n",
            "[0.13949272033425864]\n",
            "\n"
          ],
          "name": "stdout"
        }
      ]
    },
    {
      "cell_type": "code",
      "metadata": {
        "id": "mrOUPetT_C1w",
        "colab_type": "code",
        "colab": {}
      },
      "source": [
        "x_train,y_train=np.array(X_train),np.array(Y_train)"
      ],
      "execution_count": null,
      "outputs": []
    },
    {
      "cell_type": "code",
      "metadata": {
        "id": "10mPsc74BP6v",
        "colab_type": "code",
        "colab": {
          "base_uri": "https://localhost:8080/",
          "height": 186
        },
        "outputId": "2772c155-8b0c-42f6-836a-300d9f219fe8"
      },
      "source": [
        "#reshape\n",
        "x_train.shape"
      ],
      "execution_count": 34,
      "outputs": [
        {
          "output_type": "error",
          "ename": "NameError",
          "evalue": "ignored",
          "traceback": [
            "\u001b[0;31m---------------------------------------------------------------------------\u001b[0m",
            "\u001b[0;31mNameError\u001b[0m                                 Traceback (most recent call last)",
            "\u001b[0;32m<ipython-input-34-74e552ab6de4>\u001b[0m in \u001b[0;36m<module>\u001b[0;34m()\u001b[0m\n\u001b[1;32m      1\u001b[0m \u001b[0;31m#reshape\u001b[0m\u001b[0;34m\u001b[0m\u001b[0;34m\u001b[0m\u001b[0;34m\u001b[0m\u001b[0m\n\u001b[0;32m----> 2\u001b[0;31m \u001b[0mx_train\u001b[0m\u001b[0;34m.\u001b[0m\u001b[0mshape\u001b[0m\u001b[0;34m\u001b[0m\u001b[0;34m\u001b[0m\u001b[0m\n\u001b[0m",
            "\u001b[0;31mNameError\u001b[0m: name 'x_train' is not defined"
          ]
        }
      ]
    },
    {
      "cell_type": "code",
      "metadata": {
        "id": "vd4RRo3gB5wV",
        "colab_type": "code",
        "colab": {}
      },
      "source": [
        "x_train=np.reshape(x_train,(x_train.shape[0],x_train.shape[1],1))"
      ],
      "execution_count": null,
      "outputs": []
    },
    {
      "cell_type": "code",
      "metadata": {
        "id": "jb5KobfnCN5_",
        "colab_type": "code",
        "colab": {
          "base_uri": "https://localhost:8080/",
          "height": 138
        },
        "outputId": "205cee68-c824-4ffa-cff0-2403e7e982a4"
      },
      "source": [
        "#build the model\n",
        "model=Sequential()\n",
        "model.add(LSTM(units=50,return_sequences=True,input_shape=(x_train.shape[1],1)))\n",
        "model.add(LSTM(units=50,return_sequences=False))\n",
        "model.add(Dense(25))\n",
        "model.add(Dense(1))\n"
      ],
      "execution_count": null,
      "outputs": [
        {
          "output_type": "stream",
          "text": [
            "WARNING:tensorflow:From /usr/local/lib/python3.6/dist-packages/keras/backend/tensorflow_backend.py:66: The name tf.get_default_graph is deprecated. Please use tf.compat.v1.get_default_graph instead.\n",
            "\n",
            "WARNING:tensorflow:From /usr/local/lib/python3.6/dist-packages/keras/backend/tensorflow_backend.py:541: The name tf.placeholder is deprecated. Please use tf.compat.v1.placeholder instead.\n",
            "\n",
            "WARNING:tensorflow:From /usr/local/lib/python3.6/dist-packages/keras/backend/tensorflow_backend.py:4432: The name tf.random_uniform is deprecated. Please use tf.random.uniform instead.\n",
            "\n"
          ],
          "name": "stdout"
        }
      ]
    },
    {
      "cell_type": "code",
      "metadata": {
        "id": "_GdQ6ykUDurO",
        "colab_type": "code",
        "colab": {
          "base_uri": "https://localhost:8080/",
          "height": 50
        },
        "outputId": "01b3685f-4407-49bc-e014-81ace63d381f"
      },
      "source": [
        "#compile the model\n",
        "model.compile(optimizer='adam',loss='mean_squared_error')"
      ],
      "execution_count": null,
      "outputs": [
        {
          "output_type": "stream",
          "text": [
            "WARNING:tensorflow:From /usr/local/lib/python3.6/dist-packages/keras/optimizers.py:793: The name tf.train.Optimizer is deprecated. Please use tf.compat.v1.train.Optimizer instead.\n",
            "\n"
          ],
          "name": "stdout"
        }
      ]
    },
    {
      "cell_type": "code",
      "metadata": {
        "id": "vqXpi1zgy5aQ",
        "colab_type": "code",
        "colab": {
          "base_uri": "https://localhost:8080/",
          "height": 67
        },
        "outputId": "ec9af6a6-809e-448d-995b-9186ff678ef2"
      },
      "source": [
        "#train the data\n",
        "model.fit(x_train,y_train,batch_size=1,epochs=1)"
      ],
      "execution_count": null,
      "outputs": [
        {
          "output_type": "stream",
          "text": [
            "Epoch 1/1\n",
            "1543/1543 [==============================] - 105s 68ms/step - loss: 2.4519e-04\n"
          ],
          "name": "stdout"
        },
        {
          "output_type": "execute_result",
          "data": {
            "text/plain": [
              "<keras.callbacks.History at 0x7fb70bb65b00>"
            ]
          },
          "metadata": {
            "tags": []
          },
          "execution_count": 44
        }
      ]
    },
    {
      "cell_type": "code",
      "metadata": {
        "id": "yRA0aDiCsevw",
        "colab_type": "code",
        "colab": {}
      },
      "source": [
        "#create testing dataset\n",
        "#create a new array containing scaled values from index 1543 to 2003\n",
        "test_data=scaled_data[training_data_len -60:,:]\n",
        "test_data"
      ],
      "execution_count": null,
      "outputs": []
    },
    {
      "cell_type": "code",
      "metadata": {
        "id": "kmaY_uyJxN_W",
        "colab_type": "code",
        "colab": {}
      },
      "source": [
        "x_test=[]\n",
        "y_test=dataset[training_data_len:, :]\n",
        "for i in range (60,len(test_data)):\n",
        "  x_test.append(test_data[i-60:i,0])\n"
      ],
      "execution_count": null,
      "outputs": []
    },
    {
      "cell_type": "code",
      "metadata": {
        "id": "VDG-C8K3t00m",
        "colab_type": "code",
        "colab": {}
      },
      "source": [
        "x_test=np.array(x_test)"
      ],
      "execution_count": null,
      "outputs": []
    },
    {
      "cell_type": "code",
      "metadata": {
        "id": "cnwFEbtkt8rZ",
        "colab_type": "code",
        "colab": {}
      },
      "source": [
        "x_test=np.reshape(x_test,(x_test.shape[0],x_test.shape[1],1))"
      ],
      "execution_count": null,
      "outputs": []
    },
    {
      "cell_type": "code",
      "metadata": {
        "id": "bBM9HhLR080T",
        "colab_type": "code",
        "colab": {}
      },
      "source": [
        "#get the models predicted price value\n",
        "predictions=model.predict(x_test)\n",
        "predictions=scaler.inverse_transform(predictions)"
      ],
      "execution_count": null,
      "outputs": []
    },
    {
      "cell_type": "code",
      "metadata": {
        "id": "ySpti_dZ12uU",
        "colab_type": "code",
        "colab": {
          "base_uri": "https://localhost:8080/",
          "height": 34
        },
        "outputId": "7e4b73d5-9059-4928-e67c-0ef99d11375c"
      },
      "source": [
        "#get the rmse\n",
        "rmse=np.sqrt(np.mean(predictions-y_test)**2)\n",
        "rmse"
      ],
      "execution_count": null,
      "outputs": [
        {
          "output_type": "execute_result",
          "data": {
            "text/plain": [
              "4.244400520324707"
            ]
          },
          "metadata": {
            "tags": []
          },
          "execution_count": 62
        }
      ]
    },
    {
      "cell_type": "code",
      "metadata": {
        "id": "GIDK8yJS2X6o",
        "colab_type": "code",
        "colab": {
          "base_uri": "https://localhost:8080/",
          "height": 676
        },
        "outputId": "22df4bec-e2b8-458e-b56e-9872edb3b844"
      },
      "source": [
        "#plot the results\n",
        "train=data[:training_data_len]\n",
        "valid=data[training_data_len:]\n",
        "valid['Predictions']=predictions\n",
        "\n",
        "#visualize\n",
        "plot.figure(figsize=(16,8))\n",
        "plot.title('model')\n",
        "plot.xlabel('Date')\n",
        "plot.ylabel('Close price usd($)')\n",
        "plot.plot(valid[['Close','Predictions']])\n",
        "plot.legend()\n",
        "plot.show()\n"
      ],
      "execution_count": null,
      "outputs": [
        {
          "output_type": "stream",
          "text": [
            "/usr/local/lib/python3.6/dist-packages/ipykernel_launcher.py:3: SettingWithCopyWarning: \n",
            "A value is trying to be set on a copy of a slice from a DataFrame.\n",
            "Try using .loc[row_indexer,col_indexer] = value instead\n",
            "\n",
            "See the caveats in the documentation: http://pandas.pydata.org/pandas-docs/stable/user_guide/indexing.html#returning-a-view-versus-a-copy\n",
            "  This is separate from the ipykernel package so we can avoid doing imports until\n",
            "No handles with labels found to put in legend.\n"
          ],
          "name": "stderr"
        },
        {
          "output_type": "display_data",
          "data": {
            "image/png": "[encoded data removed]",
            "text/plain": [
              "<Figure size 1152x576 with 1 Axes>"
            ]
          },
          "metadata": {
            "tags": []
          }
        }
      ]
    }
  ]
}